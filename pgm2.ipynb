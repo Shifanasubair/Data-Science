{
 "cells": [
  {
   "cell_type": "code",
   "execution_count": 16,
   "id": "94fe6627",
   "metadata": {},
   "outputs": [
    {
     "name": "stdout",
     "output_type": "stream",
     "text": [
      "MATRIX OPERATIONS\n",
      "MATRIX A:\n",
      "[[1 2]\n",
      " [4 5]]\n",
      "MATRIX B:\n",
      "[[3 7]\n",
      " [9 6]]\n",
      "MATRIX ADDITION:\n",
      "[[ 4  9]\n",
      " [13 11]]\n",
      "MATRIX SUBTRACTION:\n",
      "[[-2 -5]\n",
      " [-5 -1]]\n",
      "MATRIX MULTIPLICATION:\n",
      "[[ 3 14]\n",
      " [36 30]]\n",
      "MATRIX TRANSPOSE:\n",
      "[[1 4]\n",
      " [2 5]]\n"
     ]
    }
   ],
   "source": [
    "import numpy as np\n",
    "a=np.array([[1,2],[4,5]])\n",
    "b=np.array([[3,7],[9,6]])\n",
    "print(\"MATRIX OPERATIONS\")\n",
    "print(f\"MATRIX A:\\n{a}\")\n",
    "print(f\"MATRIX B:\\n{b}\")\n",
    "print(f\"MATRIX ADDITION:\\n{a+b}\")\n",
    "print(f\"MATRIX SUBTRACTION:\\n{a-b}\")\n",
    "print(f\"MATRIX MULTIPLICATION:\\n{a*b}\")\n",
    "print(f\"MATRIX TRANSPOSE:\\n{a.T}\")"
   ]
  },
  {
   "cell_type": "code",
   "execution_count": null,
   "id": "b4c46ee1",
   "metadata": {},
   "outputs": [],
   "source": []
  }
 ],
 "metadata": {
  "kernelspec": {
   "display_name": "Python 3 (ipykernel)",
   "language": "python",
   "name": "python3"
  },
  "language_info": {
   "codemirror_mode": {
    "name": "ipython",
    "version": 3
   },
   "file_extension": ".py",
   "mimetype": "text/x-python",
   "name": "python",
   "nbconvert_exporter": "python",
   "pygments_lexer": "ipython3",
   "version": "3.11.4"
  }
 },
 "nbformat": 4,
 "nbformat_minor": 5
}
