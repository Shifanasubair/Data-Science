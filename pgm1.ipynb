{
 "cells": [
  {
   "cell_type": "code",
   "execution_count": 5,
   "id": "f78fefb6",
   "metadata": {},
   "outputs": [
    {
     "name": "stdout",
     "output_type": "stream",
     "text": [
      "89\n"
     ]
    }
   ],
   "source": [
    "l1=[5,7,9,23,54,67,53,89,11]\n",
    "lar=max(l1)\n",
    "print(lar)"
   ]
  },
  {
   "cell_type": "code",
   "execution_count": 7,
   "id": "c7126f81",
   "metadata": {},
   "outputs": [
    {
     "name": "stdout",
     "output_type": "stream",
     "text": [
      "the largest number is: 45\n"
     ]
    }
   ],
   "source": [
    "l1=[12,3,45,6,4]\n",
    "def largest_number(numbers):\n",
    "    if not numbers:\n",
    "        return none\n",
    "    largest=numbers[0]\n",
    "    for number in numbers:\n",
    "        if number > largest:\n",
    "            largest=number\n",
    "    return largest\n",
    "print(\"the largest number is:\",largest_number(l1))"
   ]
  },
  {
   "cell_type": "code",
   "execution_count": 9,
   "id": "b9d11b6a",
   "metadata": {},
   "outputs": [
    {
     "name": "stdout",
     "output_type": "stream",
     "text": [
      "final list without duplicates is: [1, 2, 3, 7, 9]\n"
     ]
    }
   ],
   "source": [
    "li=[1,2,3,3,7,9]\n",
    "result=[]\n",
    "for item in li:\n",
    "    if item not in result:\n",
    "        result.append(item)\n",
    "print(\"final list without duplicates is:\",result)"
   ]
  },
  {
   "cell_type": "code",
   "execution_count": 10,
   "id": "42bcdf40",
   "metadata": {},
   "outputs": [
    {
     "name": "stdout",
     "output_type": "stream",
     "text": [
      "{1, 4, 42, 22, 23}\n"
     ]
    }
   ],
   "source": [
    "l1=[1,4,23,42,22,1]\n",
    "a=set(l1)\n",
    "print(a)"
   ]
  },
  {
   "cell_type": "code",
   "execution_count": 15,
   "id": "aefd0ab4",
   "metadata": {},
   "outputs": [
    {
     "name": "stdout",
     "output_type": "stream",
     "text": [
      "{'blue': 2, 'berry': 3, 'cherry': 6}\n"
     ]
    }
   ],
   "source": [
    "t=((\"blue\",2),(\"berry\",3),(\"cherry\",6))\n",
    "result=dict(t)\n",
    "print(result)"
   ]
  },
  {
   "cell_type": "code",
   "execution_count": 21,
   "id": "b8b24e20",
   "metadata": {},
   "outputs": [
    {
     "name": "stdout",
     "output_type": "stream",
     "text": [
      "{1: 'jaseem', 2: 'aami', 3: 'roshan', 4: 'linto', 5: 'shifana', 6: 'nahyan', 7: 'aswin'}\n"
     ]
    }
   ],
   "source": [
    "d1={1:\"jaseem\",2:\"aami\",3:\"roshan\",4:\"linto\"}\n",
    "d2={5:\"shifana\",6:\"nahyan\",7:\"aswin\"}\n",
    "res=d1 | d2\n",
    "print(res)"
   ]
  },
  {
   "cell_type": "code",
   "execution_count": 22,
   "id": "c03ae7c4",
   "metadata": {},
   "outputs": [
    {
     "name": "stdout",
     "output_type": "stream",
     "text": [
      "{1: 'jaseem', 2: 'aami', 3: 'roshan', 4: 'athulya', 5: 'shifana', 6: 'nahyan', 7: 'aswin'}\n"
     ]
    }
   ],
   "source": [
    "d1={1:\"jaseem\",2:\"aami\",3:\"roshan\",4:\"linto\"}\n",
    "d2={4:\"athulya\",5:\"shifana\",6:\"nahyan\",7:\"aswin\"}\n",
    "res=d1 | d2\n",
    "print(res)"
   ]
  },
  {
   "cell_type": "code",
   "execution_count": 23,
   "id": "8cdfaa0d",
   "metadata": {},
   "outputs": [
    {
     "name": "stdout",
     "output_type": "stream",
     "text": [
      "{1: 'jaseem', 2: 'aami', 3: 'roshan', 4: 'linto', 5: 'shifana', 6: 'nahyan', 7: 'aswin'}\n"
     ]
    }
   ],
   "source": [
    "d1={1:\"jaseem\",2:\"aami\",3:\"roshan\",4:\"linto\"}\n",
    "d2={4:\"linto\",5:\"shifana\",6:\"nahyan\",7:\"aswin\"}\n",
    "res=d1 | d2\n",
    "print(res)"
   ]
  },
  {
   "cell_type": "code",
   "execution_count": 24,
   "id": "7f72c83f",
   "metadata": {},
   "outputs": [
    {
     "name": "stdout",
     "output_type": "stream",
     "text": [
      "True\n"
     ]
    }
   ],
   "source": [
    "l1=[12,3,43,23,16,7,15]\n",
    "l2=[23,41,5,6,16]\n",
    "common=False\n",
    "for i in l1:\n",
    "    if i in l2:\n",
    "        common=True\n",
    "        break\n",
    "print(common)"
   ]
  },
  {
   "cell_type": "code",
   "execution_count": null,
   "id": "eddb1899",
   "metadata": {},
   "outputs": [],
   "source": []
  }
 ],
 "metadata": {
  "kernelspec": {
   "display_name": "Python 3 (ipykernel)",
   "language": "python",
   "name": "python3"
  },
  "language_info": {
   "codemirror_mode": {
    "name": "ipython",
    "version": 3
   },
   "file_extension": ".py",
   "mimetype": "text/x-python",
   "name": "python",
   "nbconvert_exporter": "python",
   "pygments_lexer": "ipython3",
   "version": "3.11.4"
  }
 },
 "nbformat": 4,
 "nbformat_minor": 5
}
